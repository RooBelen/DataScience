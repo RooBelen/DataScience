{
 "cells": [
  {
   "cell_type": "code",
   "execution_count": 2,
   "id": "9713382c-1d73-481d-b80a-55c1b0da7150",
   "metadata": {
    "tags": []
   },
   "outputs": [],
   "source": [
    "#Crear un arreglo de ceros de longitud 12 - ok\n",
    "#Crear un arreglo de longitud 10 con ceros en todas sus posiciones y un 10 en la posición número 5\n",
    "#Crear un arreglo que tenga los números del 10 al 49 - ok\n",
    "#Crear una arreglo 2d de shape (3, 3) que tenga los números del 0 al 8 - VERLO\n",
    "#Crear un arreglo de números aleatorios de longitud 100 y obtener su media y varianza\n",
    "#Calcular la media de un arreglo usando np.sum\n",
    "#Calcular la varianza de un arreglo usando np.sum y np.mean\n",
    "#Crear un array de números aleatorios usando np.random.randn."
   ]
  },
  {
   "cell_type": "code",
   "execution_count": 3,
   "id": "45d2e5be-1fb6-4804-ad89-0c01d87f4aa2",
   "metadata": {
    "tags": []
   },
   "outputs": [],
   "source": [
    "import numpy as np"
   ]
  },
  {
   "cell_type": "code",
   "execution_count": 4,
   "id": "edf33d35-c025-4770-84e3-a2308c69a487",
   "metadata": {
    "tags": []
   },
   "outputs": [
    {
     "name": "stdout",
     "output_type": "stream",
     "text": [
      "Requirement already satisfied: pandas in c:\\users\\54115\\anaconda3\\lib\\site-packages (1.5.3)\n",
      "Requirement already satisfied: python-dateutil>=2.8.1 in c:\\users\\54115\\anaconda3\\lib\\site-packages (from pandas) (2.8.2)\n",
      "Requirement already satisfied: pytz>=2020.1 in c:\\users\\54115\\anaconda3\\lib\\site-packages (from pandas) (2022.7)\n",
      "Requirement already satisfied: numpy>=1.21.0 in c:\\users\\54115\\anaconda3\\lib\\site-packages (from pandas) (1.24.3)\n",
      "Requirement already satisfied: six>=1.5 in c:\\users\\54115\\anaconda3\\lib\\site-packages (from python-dateutil>=2.8.1->pandas) (1.16.0)\n"
     ]
    }
   ],
   "source": [
    "!pip install pandas"
   ]
  },
  {
   "cell_type": "code",
   "execution_count": 5,
   "id": "ac51e447-d2eb-475a-bceb-f3f50e5dc175",
   "metadata": {
    "tags": []
   },
   "outputs": [
    {
     "name": "stdout",
     "output_type": "stream",
     "text": [
      "Requirement already satisfied: numpy in c:\\users\\54115\\anaconda3\\lib\\site-packages (1.24.3)\n"
     ]
    }
   ],
   "source": [
    "!pip install numpy"
   ]
  },
  {
   "cell_type": "code",
   "execution_count": 11,
   "id": "4a91c7e3-ff35-4d92-ad70-a920359dc0a7",
   "metadata": {
    "tags": []
   },
   "outputs": [
    {
     "data": {
      "text/plain": [
       "array([0., 0., 0., 0., 0., 0., 0., 0., 0., 0., 0., 0.])"
      ]
     },
     "execution_count": 11,
     "metadata": {},
     "output_type": "execute_result"
    }
   ],
   "source": [
    "#Crear un arreglo de ceros de longitud 12\n",
    "np.zeros(12)"
   ]
  },
  {
   "cell_type": "code",
   "execution_count": 40,
   "id": "8e14080d-a3d6-4775-8813-c9db3143ee0a",
   "metadata": {
    "tags": []
   },
   "outputs": [
    {
     "name": "stdout",
     "output_type": "stream",
     "text": [
      "[ 0.  0.  0.  0. 10.  0.  0.  0.  0.  0.]\n"
     ]
    }
   ],
   "source": [
    "#Crear un arreglo de longitud 10 con ceros en todas sus posiciones y un 10 en la posición número 5\n",
    "nuevo_array = np.zeros(10)\n",
    "nuevo_array[4 : 5] = [10]\n",
    "print (nuevo_array)"
   ]
  },
  {
   "cell_type": "code",
   "execution_count": 46,
   "id": "58c8a044-ab20-437b-9570-c5fc2adb3207",
   "metadata": {
    "tags": []
   },
   "outputs": [
    {
     "name": "stdout",
     "output_type": "stream",
     "text": [
      "[10 11 12 13 14 15 16 17 18 19 20 21 22 23 24 25 26 27 28 29 30 31 32 33\n",
      " 34 35 36 37 38 39 40 41 42 43 44 45 46 47 48 49]\n"
     ]
    }
   ],
   "source": [
    "#Crear un arreglo que tenga los números del 10 al 49\n",
    "array_3 = np.arange(10, 50, 1)\n",
    "print (array_3)\n"
   ]
  },
  {
   "cell_type": "code",
   "execution_count": 67,
   "id": "d65a25e9-8db7-4dd7-b55c-12e1f668f803",
   "metadata": {
    "tags": []
   },
   "outputs": [
    {
     "data": {
      "text/plain": [
       "array([[[0, 1, 2],\n",
       "        [3, 4, 5],\n",
       "        [6, 7, 8]]])"
      ]
     },
     "execution_count": 67,
     "metadata": {},
     "output_type": "execute_result"
    }
   ],
   "source": [
    "#Crear un arreglo 2d de shape (3, 3) que tenga los números del 0 al 8 #VER! porque linea 78 y 80 dan esas dimensiones \n",
    "array_w = [[[0,1,2],[3,4,5],[6,7,8]]]\n",
    "arr2d = np.array(array_w)\n",
    "arr2d"
   ]
  },
  {
   "cell_type": "code",
   "execution_count": 77,
   "id": "f9dff743-fe24-4fcb-a4a4-af31ea3d130b",
   "metadata": {
    "tags": []
   },
   "outputs": [
    {
     "name": "stdout",
     "output_type": "stream",
     "text": [
      "[[[0 1 2]\n",
      "  [3 4 5]\n",
      "  [6 7 8]]]\n"
     ]
    }
   ],
   "source": [
    "#Crear un arreglo 2d de shape (3, 3) que tenga los números del 0 al 8\n",
    "array_w = [[[0,1,2],[3,4,5],[6,7,8]]]\n",
    "arr2d = np.array(array_w)\n",
    "print (arr2d)"
   ]
  },
  {
   "cell_type": "code",
   "execution_count": 78,
   "id": "792bc3c8-a4ce-4ac5-adec-3f79fe1fe165",
   "metadata": {
    "tags": []
   },
   "outputs": [
    {
     "name": "stdout",
     "output_type": "stream",
     "text": [
      "3\n"
     ]
    }
   ],
   "source": [
    "print(arr2d.ndim)"
   ]
  },
  {
   "cell_type": "code",
   "execution_count": 79,
   "id": "223698ea-2865-4305-8039-a4759dd4154f",
   "metadata": {
    "tags": []
   },
   "outputs": [
    {
     "name": "stdout",
     "output_type": "stream",
     "text": [
      "[[ 0  1  3]\n",
      " [ 6  4  5]\n",
      " [ 9 10  8]\n",
      " [ 2  7 11]]\n"
     ]
    }
   ],
   "source": [
    "lista2 = [[0, 1, 3], [6, 4, 5], [9, 10, 8], [2, 7, 11]]\n",
    "nuevo_arrays = np.array(lista2)\n",
    "print (nuevo_arrays)"
   ]
  },
  {
   "cell_type": "code",
   "execution_count": 80,
   "id": "21e618c6-466f-42b5-9a65-2f11fe33a45b",
   "metadata": {
    "tags": []
   },
   "outputs": [
    {
     "name": "stdout",
     "output_type": "stream",
     "text": [
      "2\n"
     ]
    }
   ],
   "source": [
    "print(nuevo_arrays.ndim)"
   ]
  },
  {
   "cell_type": "code",
   "execution_count": 96,
   "id": "fea1de4a-edc2-4e72-87c1-b46348209833",
   "metadata": {
    "tags": []
   },
   "outputs": [
    {
     "name": "stdout",
     "output_type": "stream",
     "text": [
      "[-0.6357036   1.5473429  -1.33036924  0.8673774  -0.08304308  0.38998617\n",
      "  0.35028046  0.51596978  0.48792055 -0.82612744 -0.89560432  1.12963509\n",
      " -0.29014497 -1.71019066 -0.07190275  1.9191053   0.86493209 -1.3117699\n",
      "  0.56583445  1.10475492 -1.66953885 -0.86327694 -0.30567437  1.45210341\n",
      "  0.48157995  1.01529156  1.18786008 -2.1646     -1.01654007 -0.04618058\n",
      " -0.38924065 -0.1880749   0.75275839 -0.25704299  1.85111643  0.43750505\n",
      " -0.11849225  1.75667925 -0.51803231 -1.85169013  0.52272175  0.85472857\n",
      "  1.37902886  0.36558723 -2.48727448  0.82624601  2.06902698 -0.2553743\n",
      " -0.33582367 -1.97107243 -1.65207035  2.5715501  -0.37451905 -0.25829549\n",
      " -1.18693561 -0.02169687  0.27923963  0.22482383  1.27844345  0.30716172\n",
      "  0.76476873  1.23821822  0.55249419 -0.25151786  0.27903046  0.44671191\n",
      "  0.53073283 -0.60742975  0.1590039  -0.10798607 -1.59863403  1.23623529\n",
      " -0.57533935  0.43932999  0.7314022   0.27099412  1.38960835  0.46500098\n",
      " -0.7161313  -0.41688593  0.46400459  0.29041495 -1.73277046 -0.07760402\n",
      " -1.01918985  0.10582942 -1.64498558 -0.212989    0.16156742 -2.03927873\n",
      " -0.01097241  1.24927183 -0.89977891 -0.89280542  0.08974919 -0.86229856\n",
      "  0.22329798 -0.00956023 -0.42908357  0.301332  ]\n"
     ]
    }
   ],
   "source": [
    "#Crear un arreglo de números aleatorios de longitud 100 y obtener su media y varianza\n",
    "abc = (np.random.randn(100))\n",
    "print(abc)"
   ]
  },
  {
   "cell_type": "code",
   "execution_count": 97,
   "id": "cfffc98a-e337-4483-b06b-4a0eb6367a1e",
   "metadata": {
    "tags": []
   },
   "outputs": [
    {
     "data": {
      "text/plain": [
       "1.030218706221878"
      ]
     },
     "execution_count": 97,
     "metadata": {},
     "output_type": "execute_result"
    }
   ],
   "source": [
    "np.var(abc) #varianza"
   ]
  },
  {
   "cell_type": "code",
   "execution_count": 98,
   "id": "117c417d-b8ca-4c60-a6c2-ddb8c17e3c7b",
   "metadata": {
    "tags": []
   },
   "outputs": [
    {
     "data": {
      "text/plain": [
       "0.015540466395877632"
      ]
     },
     "execution_count": 98,
     "metadata": {},
     "output_type": "execute_result"
    }
   ],
   "source": [
    "np.mean(abc) #media"
   ]
  },
  {
   "cell_type": "code",
   "execution_count": 101,
   "id": "85c320bb-ccf8-45d8-904d-af1d78886306",
   "metadata": {
    "tags": []
   },
   "outputs": [
    {
     "name": "stdout",
     "output_type": "stream",
     "text": [
      "0.015540466395877632\n"
     ]
    }
   ],
   "source": [
    "#Calcular la media de un arreglo usando np.sum\n",
    "nuevamedia = np.sum(abc)/(abc.size)\n",
    "print(nuevamedia)"
   ]
  },
  {
   "cell_type": "code",
   "execution_count": 105,
   "id": "a6759fba-3707-4da5-9bd8-9619bbf03a49",
   "metadata": {
    "tags": []
   },
   "outputs": [
    {
     "name": "stdout",
     "output_type": "stream",
     "text": [
      "100.0\n"
     ]
    }
   ],
   "source": [
    "#Calcular la varianza de un arreglo usando np.sum y np.mean PENDIENTE\n",
    "nuevavarianza = np.sum(abc)/(np.mean(abc))\n",
    "print(nuevavarianza)"
   ]
  },
  {
   "cell_type": "code",
   "execution_count": 112,
   "id": "a87d9ecd-b4fe-41b0-a8dc-327b35d28569",
   "metadata": {
    "tags": []
   },
   "outputs": [
    {
     "name": "stdout",
     "output_type": "stream",
     "text": [
      "[-1.95323844  0.79150122 -0.33484549  0.80697574 -1.03732579  0.4766134\n",
      "  2.50015796 -0.91814558 -0.31013058  2.47421265  1.13696422  1.05438796\n",
      "  1.64981269 -1.47369867 -0.35551908 -0.60531798 -0.82920434 -0.21752418\n",
      "  0.13697884 -1.38294784  0.15882398 -0.90444538  2.1575329  -2.03879077\n",
      "  0.5251731 ]\n"
     ]
    }
   ],
   "source": [
    "#Crear un array de números aleatorios usando np.random.randn.\n",
    "xyz = (np.random.randn(25))\n",
    "print (xyz)"
   ]
  },
  {
   "cell_type": "code",
   "execution_count": null,
   "id": "61f36d6b-50b1-4bee-a365-a183c9c8238a",
   "metadata": {},
   "outputs": [],
   "source": []
  }
 ],
 "metadata": {
  "kernelspec": {
   "display_name": "Python 3 (ipykernel)",
   "language": "python",
   "name": "python3"
  },
  "language_info": {
   "codemirror_mode": {
    "name": "ipython",
    "version": 3
   },
   "file_extension": ".py",
   "mimetype": "text/x-python",
   "name": "python",
   "nbconvert_exporter": "python",
   "pygments_lexer": "ipython3",
   "version": "3.11.3"
  }
 },
 "nbformat": 4,
 "nbformat_minor": 5
}
